{
  "cells": [
    {
      "cell_type": "markdown",
      "metadata": {
        "id": "rrbxYU5sEuoS"
      },
      "source": [
        "\n",
        "<font size=\"6\" color=\"Green\" align=\"center\"><b>LEVEL 1</b></font><br>\n",
        "\n",
        "<font size=\"5\" color=\"Darkblue\" align=\"center\"><b>Project1:\n",
        "Retail Sales Exploratory Data Analysis (EDA) </b></font><br>"
      ]
    },
    {
      "cell_type": "markdown",
      "metadata": {
        "id": "RuEbRinnEwBs"
      },
      "source": [
        "<font size=\"4\" color=\"purple\" align=\"center\"><b>Introduction</b></font><br>\n",
        "\n",
        "Welcome to the Retail Sales Exploratory Data Analysis (EDA) project. In this notebook, we will delve into the Retail Sales Dataset provided by Kaggle. Our goal is to perform a comprehensive exploratory data analysis to uncover patterns, trends, and insights that can help the retail business make informed decisions.<br>\n",
        "\n",
        "<font size=\"4\" color=\"purple\" align=\"center\"><b>Exploratory Data Analysis (EDA)</b></font><br>\n",
        "\n",
        "EDA is a crucial step in the data science process, where we analyze the main characteristics of the dataset using both statistical and graphical methods. By conducting EDA, we aim to:\n",
        "\n",
        "Understand the structure and distribution of the data.\n",
        "Identify outliers and anomalies.\n",
        "Detect patterns, relationships, and trends.\n",
        "Formulate hypotheses for further analysis.\n",
        "Through EDA, we can gain a better understanding of the data, which will help in building more accurate models and making more informed business decisions.\n",
        "\n",
        "<font size=\"4\" color=\"purple\" align=\"center\"><b>About the dataset</b></font><br>\n",
        "This synthetic retail dataset includes attributes such as Transaction ID, Date, Customer ID, Gender, Age, Product Category, Quantity, Price per Unit, and Total Amount. It is designed to simulate a real-world retail environment, allowing for the exploration of sales trends, demographic influences, and purchasing behaviors. Ideal for practicing exploratory data analysis (EDA), it provides a realistic platform for generating insights and hypotheses about customer behavior and retail strategies. Dataset: (<a href=\"https://www.kaggle.com/datasets/mohammadtalib786/retail-sales-dataset\">link</a>)<br>\n",
        "This dataset will be highly useful for improving retail sales strategies by allowing us to analyze:\n",
        "\n",
        "* Seasonal trends and patterns in sales.\n",
        "* Customer purchasing behavior.\n",
        "* Product performance.\n",
        "* Store performance and regional sales trends.\n",
        "\n",
        "<b> Key Concepts and Challenges </b>\n",
        "1. Data Loading and Cleaning: Load the retail sales dataset.\n",
        "2. Descriptive Statistics: Calculate basic statistics (mean, median, mode, standard deviation).\n",
        "3. Time Series Analysis: Analyze sales trends over time using time series techniques.\n",
        "4. Customer and Product Analysis: Analyze customer demographics and purchasing behavior.\n",
        "5. Visualization: Present insights through bar charts, line plots, and heatmaps.\n",
        "6. Recommendations: Provide actionable recommendations based on the EDA\n",
        "\n",
        "\n"
      ]
    },
    {
      "cell_type": "markdown",
      "source": [
        "<b>IMPORTING REQUIRED LIBRARY</B>"
      ],
      "metadata": {
        "id": "b2I_NhkXfzSY"
      }
    },
    {
      "cell_type": "code",
      "execution_count": 1,
      "metadata": {
        "id": "czkpRfOyEizc"
      },
      "outputs": [],
      "source": [
        "# Import necessary libraries\n",
        "import numpy as np  # For numerical operations\n",
        "import pandas as pd  # For data manipulation and analysis\n",
        "import matplotlib.pyplot as plt  # For creating plots and charts\n",
        "import seaborn as sns  # For statistical data visualization"
      ]
    },
    {
      "cell_type": "markdown",
      "source": [
        "<font size=\"4\" color=\"darkblue\" align=\"center\"><b>1. Data Loading and Cleaning</b></font><b></b>"
      ],
      "metadata": {
        "id": "pqvoszmFgGWo"
      }
    },
    {
      "cell_type": "code",
      "execution_count": 2,
      "metadata": {
        "id": "n7Sd-hueIi8Q"
      },
      "outputs": [],
      "source": [
        "# Read CSV file into a DataFrame\n",
        "df = pd.read_csv(\"retail_sales_dataset.csv\")"
      ]
    },
    {
      "cell_type": "markdown",
      "source": [
        "<font size=\"4\" color=\"purple\" align=\"center\"><b>Data Audits</b></font>"
      ],
      "metadata": {
        "id": "dCfCjsIPgQtn"
      }
    },
    {
      "cell_type": "code",
      "source": [
        "df.head() # Show first 5 records of data"
      ],
      "metadata": {
        "colab": {
          "base_uri": "https://localhost:8080/",
          "height": 206
        },
        "id": "Z3WMaAL0gLwx",
        "outputId": "1a91b57a-4a10-42b8-d943-7606a91bae21"
      },
      "execution_count": 3,
      "outputs": [
        {
          "output_type": "execute_result",
          "data": {
            "text/plain": [
              "   Transaction ID        Date Customer ID  Gender  Age Product Category  \\\n",
              "0               1  2023-11-24     CUST001    Male   34           Beauty   \n",
              "1               2  2023-02-27     CUST002  Female   26         Clothing   \n",
              "2               3  2023-01-13     CUST003    Male   50      Electronics   \n",
              "3               4  2023-05-21     CUST004    Male   37         Clothing   \n",
              "4               5  2023-05-06     CUST005    Male   30           Beauty   \n",
              "\n",
              "   Quantity  Price per Unit  Total Amount  \n",
              "0         3              50           150  \n",
              "1         2             500          1000  \n",
              "2         1              30            30  \n",
              "3         1             500           500  \n",
              "4         2              50           100  "
            ],
            "text/html": [
              "\n",
              "  <div id=\"df-e4c2469f-32d7-4314-a70a-c0a9091d61d4\" class=\"colab-df-container\">\n",
              "    <div>\n",
              "<style scoped>\n",
              "    .dataframe tbody tr th:only-of-type {\n",
              "        vertical-align: middle;\n",
              "    }\n",
              "\n",
              "    .dataframe tbody tr th {\n",
              "        vertical-align: top;\n",
              "    }\n",
              "\n",
              "    .dataframe thead th {\n",
              "        text-align: right;\n",
              "    }\n",
              "</style>\n",
              "<table border=\"1\" class=\"dataframe\">\n",
              "  <thead>\n",
              "    <tr style=\"text-align: right;\">\n",
              "      <th></th>\n",
              "      <th>Transaction ID</th>\n",
              "      <th>Date</th>\n",
              "      <th>Customer ID</th>\n",
              "      <th>Gender</th>\n",
              "      <th>Age</th>\n",
              "      <th>Product Category</th>\n",
              "      <th>Quantity</th>\n",
              "      <th>Price per Unit</th>\n",
              "      <th>Total Amount</th>\n",
              "    </tr>\n",
              "  </thead>\n",
              "  <tbody>\n",
              "    <tr>\n",
              "      <th>0</th>\n",
              "      <td>1</td>\n",
              "      <td>2023-11-24</td>\n",
              "      <td>CUST001</td>\n",
              "      <td>Male</td>\n",
              "      <td>34</td>\n",
              "      <td>Beauty</td>\n",
              "      <td>3</td>\n",
              "      <td>50</td>\n",
              "      <td>150</td>\n",
              "    </tr>\n",
              "    <tr>\n",
              "      <th>1</th>\n",
              "      <td>2</td>\n",
              "      <td>2023-02-27</td>\n",
              "      <td>CUST002</td>\n",
              "      <td>Female</td>\n",
              "      <td>26</td>\n",
              "      <td>Clothing</td>\n",
              "      <td>2</td>\n",
              "      <td>500</td>\n",
              "      <td>1000</td>\n",
              "    </tr>\n",
              "    <tr>\n",
              "      <th>2</th>\n",
              "      <td>3</td>\n",
              "      <td>2023-01-13</td>\n",
              "      <td>CUST003</td>\n",
              "      <td>Male</td>\n",
              "      <td>50</td>\n",
              "      <td>Electronics</td>\n",
              "      <td>1</td>\n",
              "      <td>30</td>\n",
              "      <td>30</td>\n",
              "    </tr>\n",
              "    <tr>\n",
              "      <th>3</th>\n",
              "      <td>4</td>\n",
              "      <td>2023-05-21</td>\n",
              "      <td>CUST004</td>\n",
              "      <td>Male</td>\n",
              "      <td>37</td>\n",
              "      <td>Clothing</td>\n",
              "      <td>1</td>\n",
              "      <td>500</td>\n",
              "      <td>500</td>\n",
              "    </tr>\n",
              "    <tr>\n",
              "      <th>4</th>\n",
              "      <td>5</td>\n",
              "      <td>2023-05-06</td>\n",
              "      <td>CUST005</td>\n",
              "      <td>Male</td>\n",
              "      <td>30</td>\n",
              "      <td>Beauty</td>\n",
              "      <td>2</td>\n",
              "      <td>50</td>\n",
              "      <td>100</td>\n",
              "    </tr>\n",
              "  </tbody>\n",
              "</table>\n",
              "</div>\n",
              "    <div class=\"colab-df-buttons\">\n",
              "\n",
              "  <div class=\"colab-df-container\">\n",
              "    <button class=\"colab-df-convert\" onclick=\"convertToInteractive('df-e4c2469f-32d7-4314-a70a-c0a9091d61d4')\"\n",
              "            title=\"Convert this dataframe to an interactive table.\"\n",
              "            style=\"display:none;\">\n",
              "\n",
              "  <svg xmlns=\"http://www.w3.org/2000/svg\" height=\"24px\" viewBox=\"0 -960 960 960\">\n",
              "    <path d=\"M120-120v-720h720v720H120Zm60-500h600v-160H180v160Zm220 220h160v-160H400v160Zm0 220h160v-160H400v160ZM180-400h160v-160H180v160Zm440 0h160v-160H620v160ZM180-180h160v-160H180v160Zm440 0h160v-160H620v160Z\"/>\n",
              "  </svg>\n",
              "    </button>\n",
              "\n",
              "  <style>\n",
              "    .colab-df-container {\n",
              "      display:flex;\n",
              "      gap: 12px;\n",
              "    }\n",
              "\n",
              "    .colab-df-convert {\n",
              "      background-color: #E8F0FE;\n",
              "      border: none;\n",
              "      border-radius: 50%;\n",
              "      cursor: pointer;\n",
              "      display: none;\n",
              "      fill: #1967D2;\n",
              "      height: 32px;\n",
              "      padding: 0 0 0 0;\n",
              "      width: 32px;\n",
              "    }\n",
              "\n",
              "    .colab-df-convert:hover {\n",
              "      background-color: #E2EBFA;\n",
              "      box-shadow: 0px 1px 2px rgba(60, 64, 67, 0.3), 0px 1px 3px 1px rgba(60, 64, 67, 0.15);\n",
              "      fill: #174EA6;\n",
              "    }\n",
              "\n",
              "    .colab-df-buttons div {\n",
              "      margin-bottom: 4px;\n",
              "    }\n",
              "\n",
              "    [theme=dark] .colab-df-convert {\n",
              "      background-color: #3B4455;\n",
              "      fill: #D2E3FC;\n",
              "    }\n",
              "\n",
              "    [theme=dark] .colab-df-convert:hover {\n",
              "      background-color: #434B5C;\n",
              "      box-shadow: 0px 1px 3px 1px rgba(0, 0, 0, 0.15);\n",
              "      filter: drop-shadow(0px 1px 2px rgba(0, 0, 0, 0.3));\n",
              "      fill: #FFFFFF;\n",
              "    }\n",
              "  </style>\n",
              "\n",
              "    <script>\n",
              "      const buttonEl =\n",
              "        document.querySelector('#df-e4c2469f-32d7-4314-a70a-c0a9091d61d4 button.colab-df-convert');\n",
              "      buttonEl.style.display =\n",
              "        google.colab.kernel.accessAllowed ? 'block' : 'none';\n",
              "\n",
              "      async function convertToInteractive(key) {\n",
              "        const element = document.querySelector('#df-e4c2469f-32d7-4314-a70a-c0a9091d61d4');\n",
              "        const dataTable =\n",
              "          await google.colab.kernel.invokeFunction('convertToInteractive',\n",
              "                                                    [key], {});\n",
              "        if (!dataTable) return;\n",
              "\n",
              "        const docLinkHtml = 'Like what you see? Visit the ' +\n",
              "          '<a target=\"_blank\" href=https://colab.research.google.com/notebooks/data_table.ipynb>data table notebook</a>'\n",
              "          + ' to learn more about interactive tables.';\n",
              "        element.innerHTML = '';\n",
              "        dataTable['output_type'] = 'display_data';\n",
              "        await google.colab.output.renderOutput(dataTable, element);\n",
              "        const docLink = document.createElement('div');\n",
              "        docLink.innerHTML = docLinkHtml;\n",
              "        element.appendChild(docLink);\n",
              "      }\n",
              "    </script>\n",
              "  </div>\n",
              "\n",
              "\n",
              "<div id=\"df-e1805e15-ce37-4171-a2d1-7e84cde0d9a2\">\n",
              "  <button class=\"colab-df-quickchart\" onclick=\"quickchart('df-e1805e15-ce37-4171-a2d1-7e84cde0d9a2')\"\n",
              "            title=\"Suggest charts\"\n",
              "            style=\"display:none;\">\n",
              "\n",
              "<svg xmlns=\"http://www.w3.org/2000/svg\" height=\"24px\"viewBox=\"0 0 24 24\"\n",
              "     width=\"24px\">\n",
              "    <g>\n",
              "        <path d=\"M19 3H5c-1.1 0-2 .9-2 2v14c0 1.1.9 2 2 2h14c1.1 0 2-.9 2-2V5c0-1.1-.9-2-2-2zM9 17H7v-7h2v7zm4 0h-2V7h2v10zm4 0h-2v-4h2v4z\"/>\n",
              "    </g>\n",
              "</svg>\n",
              "  </button>\n",
              "\n",
              "<style>\n",
              "  .colab-df-quickchart {\n",
              "      --bg-color: #E8F0FE;\n",
              "      --fill-color: #1967D2;\n",
              "      --hover-bg-color: #E2EBFA;\n",
              "      --hover-fill-color: #174EA6;\n",
              "      --disabled-fill-color: #AAA;\n",
              "      --disabled-bg-color: #DDD;\n",
              "  }\n",
              "\n",
              "  [theme=dark] .colab-df-quickchart {\n",
              "      --bg-color: #3B4455;\n",
              "      --fill-color: #D2E3FC;\n",
              "      --hover-bg-color: #434B5C;\n",
              "      --hover-fill-color: #FFFFFF;\n",
              "      --disabled-bg-color: #3B4455;\n",
              "      --disabled-fill-color: #666;\n",
              "  }\n",
              "\n",
              "  .colab-df-quickchart {\n",
              "    background-color: var(--bg-color);\n",
              "    border: none;\n",
              "    border-radius: 50%;\n",
              "    cursor: pointer;\n",
              "    display: none;\n",
              "    fill: var(--fill-color);\n",
              "    height: 32px;\n",
              "    padding: 0;\n",
              "    width: 32px;\n",
              "  }\n",
              "\n",
              "  .colab-df-quickchart:hover {\n",
              "    background-color: var(--hover-bg-color);\n",
              "    box-shadow: 0 1px 2px rgba(60, 64, 67, 0.3), 0 1px 3px 1px rgba(60, 64, 67, 0.15);\n",
              "    fill: var(--button-hover-fill-color);\n",
              "  }\n",
              "\n",
              "  .colab-df-quickchart-complete:disabled,\n",
              "  .colab-df-quickchart-complete:disabled:hover {\n",
              "    background-color: var(--disabled-bg-color);\n",
              "    fill: var(--disabled-fill-color);\n",
              "    box-shadow: none;\n",
              "  }\n",
              "\n",
              "  .colab-df-spinner {\n",
              "    border: 2px solid var(--fill-color);\n",
              "    border-color: transparent;\n",
              "    border-bottom-color: var(--fill-color);\n",
              "    animation:\n",
              "      spin 1s steps(1) infinite;\n",
              "  }\n",
              "\n",
              "  @keyframes spin {\n",
              "    0% {\n",
              "      border-color: transparent;\n",
              "      border-bottom-color: var(--fill-color);\n",
              "      border-left-color: var(--fill-color);\n",
              "    }\n",
              "    20% {\n",
              "      border-color: transparent;\n",
              "      border-left-color: var(--fill-color);\n",
              "      border-top-color: var(--fill-color);\n",
              "    }\n",
              "    30% {\n",
              "      border-color: transparent;\n",
              "      border-left-color: var(--fill-color);\n",
              "      border-top-color: var(--fill-color);\n",
              "      border-right-color: var(--fill-color);\n",
              "    }\n",
              "    40% {\n",
              "      border-color: transparent;\n",
              "      border-right-color: var(--fill-color);\n",
              "      border-top-color: var(--fill-color);\n",
              "    }\n",
              "    60% {\n",
              "      border-color: transparent;\n",
              "      border-right-color: var(--fill-color);\n",
              "    }\n",
              "    80% {\n",
              "      border-color: transparent;\n",
              "      border-right-color: var(--fill-color);\n",
              "      border-bottom-color: var(--fill-color);\n",
              "    }\n",
              "    90% {\n",
              "      border-color: transparent;\n",
              "      border-bottom-color: var(--fill-color);\n",
              "    }\n",
              "  }\n",
              "</style>\n",
              "\n",
              "  <script>\n",
              "    async function quickchart(key) {\n",
              "      const quickchartButtonEl =\n",
              "        document.querySelector('#' + key + ' button');\n",
              "      quickchartButtonEl.disabled = true;  // To prevent multiple clicks.\n",
              "      quickchartButtonEl.classList.add('colab-df-spinner');\n",
              "      try {\n",
              "        const charts = await google.colab.kernel.invokeFunction(\n",
              "            'suggestCharts', [key], {});\n",
              "      } catch (error) {\n",
              "        console.error('Error during call to suggestCharts:', error);\n",
              "      }\n",
              "      quickchartButtonEl.classList.remove('colab-df-spinner');\n",
              "      quickchartButtonEl.classList.add('colab-df-quickchart-complete');\n",
              "    }\n",
              "    (() => {\n",
              "      let quickchartButtonEl =\n",
              "        document.querySelector('#df-e1805e15-ce37-4171-a2d1-7e84cde0d9a2 button');\n",
              "      quickchartButtonEl.style.display =\n",
              "        google.colab.kernel.accessAllowed ? 'block' : 'none';\n",
              "    })();\n",
              "  </script>\n",
              "</div>\n",
              "\n",
              "    </div>\n",
              "  </div>\n"
            ],
            "application/vnd.google.colaboratory.intrinsic+json": {
              "type": "dataframe",
              "variable_name": "df",
              "summary": "{\n  \"name\": \"df\",\n  \"rows\": 1000,\n  \"fields\": [\n    {\n      \"column\": \"Transaction ID\",\n      \"properties\": {\n        \"dtype\": \"number\",\n        \"std\": 288,\n        \"min\": 1,\n        \"max\": 1000,\n        \"num_unique_values\": 1000,\n        \"samples\": [\n          522,\n          738,\n          741\n        ],\n        \"semantic_type\": \"\",\n        \"description\": \"\"\n      }\n    },\n    {\n      \"column\": \"Date\",\n      \"properties\": {\n        \"dtype\": \"object\",\n        \"num_unique_values\": 345,\n        \"samples\": [\n          \"2023-04-04\",\n          \"2023-04-13\",\n          \"2023-04-15\"\n        ],\n        \"semantic_type\": \"\",\n        \"description\": \"\"\n      }\n    },\n    {\n      \"column\": \"Customer ID\",\n      \"properties\": {\n        \"dtype\": \"string\",\n        \"num_unique_values\": 1000,\n        \"samples\": [\n          \"CUST522\",\n          \"CUST738\",\n          \"CUST741\"\n        ],\n        \"semantic_type\": \"\",\n        \"description\": \"\"\n      }\n    },\n    {\n      \"column\": \"Gender\",\n      \"properties\": {\n        \"dtype\": \"category\",\n        \"num_unique_values\": 2,\n        \"samples\": [\n          \"Female\",\n          \"Male\"\n        ],\n        \"semantic_type\": \"\",\n        \"description\": \"\"\n      }\n    },\n    {\n      \"column\": \"Age\",\n      \"properties\": {\n        \"dtype\": \"number\",\n        \"std\": 13,\n        \"min\": 18,\n        \"max\": 64,\n        \"num_unique_values\": 47,\n        \"samples\": [\n          48,\n          61\n        ],\n        \"semantic_type\": \"\",\n        \"description\": \"\"\n      }\n    },\n    {\n      \"column\": \"Product Category\",\n      \"properties\": {\n        \"dtype\": \"category\",\n        \"num_unique_values\": 3,\n        \"samples\": [\n          \"Beauty\",\n          \"Clothing\"\n        ],\n        \"semantic_type\": \"\",\n        \"description\": \"\"\n      }\n    },\n    {\n      \"column\": \"Quantity\",\n      \"properties\": {\n        \"dtype\": \"number\",\n        \"std\": 1,\n        \"min\": 1,\n        \"max\": 4,\n        \"num_unique_values\": 4,\n        \"samples\": [\n          2,\n          4\n        ],\n        \"semantic_type\": \"\",\n        \"description\": \"\"\n      }\n    },\n    {\n      \"column\": \"Price per Unit\",\n      \"properties\": {\n        \"dtype\": \"number\",\n        \"std\": 189,\n        \"min\": 25,\n        \"max\": 500,\n        \"num_unique_values\": 5,\n        \"samples\": [\n          500,\n          300\n        ],\n        \"semantic_type\": \"\",\n        \"description\": \"\"\n      }\n    },\n    {\n      \"column\": \"Total Amount\",\n      \"properties\": {\n        \"dtype\": \"number\",\n        \"std\": 559,\n        \"min\": 25,\n        \"max\": 2000,\n        \"num_unique_values\": 18,\n        \"samples\": [\n          150,\n          1000\n        ],\n        \"semantic_type\": \"\",\n        \"description\": \"\"\n      }\n    }\n  ]\n}"
            }
          },
          "metadata": {},
          "execution_count": 3
        }
      ]
    },
    {
      "cell_type": "code",
      "source": [
        "df.tail() # Last five rows of the dataset\n"
      ],
      "metadata": {
        "colab": {
          "base_uri": "https://localhost:8080/",
          "height": 206
        },
        "id": "lOVV1kzUgcwc",
        "outputId": "57a9e73c-6a4b-4cbf-c826-2340c7fba126"
      },
      "execution_count": 4,
      "outputs": [
        {
          "output_type": "execute_result",
          "data": {
            "text/plain": [
              "     Transaction ID        Date Customer ID  Gender  Age Product Category  \\\n",
              "995             996  2023-05-16     CUST996    Male   62         Clothing   \n",
              "996             997  2023-11-17     CUST997    Male   52           Beauty   \n",
              "997             998  2023-10-29     CUST998  Female   23           Beauty   \n",
              "998             999  2023-12-05     CUST999  Female   36      Electronics   \n",
              "999            1000  2023-04-12    CUST1000    Male   47      Electronics   \n",
              "\n",
              "     Quantity  Price per Unit  Total Amount  \n",
              "995         1              50            50  \n",
              "996         3              30            90  \n",
              "997         4              25           100  \n",
              "998         3              50           150  \n",
              "999         4              30           120  "
            ],
            "text/html": [
              "\n",
              "  <div id=\"df-1a88a64d-378c-4b1b-81a9-5c5e72913e9e\" class=\"colab-df-container\">\n",
              "    <div>\n",
              "<style scoped>\n",
              "    .dataframe tbody tr th:only-of-type {\n",
              "        vertical-align: middle;\n",
              "    }\n",
              "\n",
              "    .dataframe tbody tr th {\n",
              "        vertical-align: top;\n",
              "    }\n",
              "\n",
              "    .dataframe thead th {\n",
              "        text-align: right;\n",
              "    }\n",
              "</style>\n",
              "<table border=\"1\" class=\"dataframe\">\n",
              "  <thead>\n",
              "    <tr style=\"text-align: right;\">\n",
              "      <th></th>\n",
              "      <th>Transaction ID</th>\n",
              "      <th>Date</th>\n",
              "      <th>Customer ID</th>\n",
              "      <th>Gender</th>\n",
              "      <th>Age</th>\n",
              "      <th>Product Category</th>\n",
              "      <th>Quantity</th>\n",
              "      <th>Price per Unit</th>\n",
              "      <th>Total Amount</th>\n",
              "    </tr>\n",
              "  </thead>\n",
              "  <tbody>\n",
              "    <tr>\n",
              "      <th>995</th>\n",
              "      <td>996</td>\n",
              "      <td>2023-05-16</td>\n",
              "      <td>CUST996</td>\n",
              "      <td>Male</td>\n",
              "      <td>62</td>\n",
              "      <td>Clothing</td>\n",
              "      <td>1</td>\n",
              "      <td>50</td>\n",
              "      <td>50</td>\n",
              "    </tr>\n",
              "    <tr>\n",
              "      <th>996</th>\n",
              "      <td>997</td>\n",
              "      <td>2023-11-17</td>\n",
              "      <td>CUST997</td>\n",
              "      <td>Male</td>\n",
              "      <td>52</td>\n",
              "      <td>Beauty</td>\n",
              "      <td>3</td>\n",
              "      <td>30</td>\n",
              "      <td>90</td>\n",
              "    </tr>\n",
              "    <tr>\n",
              "      <th>997</th>\n",
              "      <td>998</td>\n",
              "      <td>2023-10-29</td>\n",
              "      <td>CUST998</td>\n",
              "      <td>Female</td>\n",
              "      <td>23</td>\n",
              "      <td>Beauty</td>\n",
              "      <td>4</td>\n",
              "      <td>25</td>\n",
              "      <td>100</td>\n",
              "    </tr>\n",
              "    <tr>\n",
              "      <th>998</th>\n",
              "      <td>999</td>\n",
              "      <td>2023-12-05</td>\n",
              "      <td>CUST999</td>\n",
              "      <td>Female</td>\n",
              "      <td>36</td>\n",
              "      <td>Electronics</td>\n",
              "      <td>3</td>\n",
              "      <td>50</td>\n",
              "      <td>150</td>\n",
              "    </tr>\n",
              "    <tr>\n",
              "      <th>999</th>\n",
              "      <td>1000</td>\n",
              "      <td>2023-04-12</td>\n",
              "      <td>CUST1000</td>\n",
              "      <td>Male</td>\n",
              "      <td>47</td>\n",
              "      <td>Electronics</td>\n",
              "      <td>4</td>\n",
              "      <td>30</td>\n",
              "      <td>120</td>\n",
              "    </tr>\n",
              "  </tbody>\n",
              "</table>\n",
              "</div>\n",
              "    <div class=\"colab-df-buttons\">\n",
              "\n",
              "  <div class=\"colab-df-container\">\n",
              "    <button class=\"colab-df-convert\" onclick=\"convertToInteractive('df-1a88a64d-378c-4b1b-81a9-5c5e72913e9e')\"\n",
              "            title=\"Convert this dataframe to an interactive table.\"\n",
              "            style=\"display:none;\">\n",
              "\n",
              "  <svg xmlns=\"http://www.w3.org/2000/svg\" height=\"24px\" viewBox=\"0 -960 960 960\">\n",
              "    <path d=\"M120-120v-720h720v720H120Zm60-500h600v-160H180v160Zm220 220h160v-160H400v160Zm0 220h160v-160H400v160ZM180-400h160v-160H180v160Zm440 0h160v-160H620v160ZM180-180h160v-160H180v160Zm440 0h160v-160H620v160Z\"/>\n",
              "  </svg>\n",
              "    </button>\n",
              "\n",
              "  <style>\n",
              "    .colab-df-container {\n",
              "      display:flex;\n",
              "      gap: 12px;\n",
              "    }\n",
              "\n",
              "    .colab-df-convert {\n",
              "      background-color: #E8F0FE;\n",
              "      border: none;\n",
              "      border-radius: 50%;\n",
              "      cursor: pointer;\n",
              "      display: none;\n",
              "      fill: #1967D2;\n",
              "      height: 32px;\n",
              "      padding: 0 0 0 0;\n",
              "      width: 32px;\n",
              "    }\n",
              "\n",
              "    .colab-df-convert:hover {\n",
              "      background-color: #E2EBFA;\n",
              "      box-shadow: 0px 1px 2px rgba(60, 64, 67, 0.3), 0px 1px 3px 1px rgba(60, 64, 67, 0.15);\n",
              "      fill: #174EA6;\n",
              "    }\n",
              "\n",
              "    .colab-df-buttons div {\n",
              "      margin-bottom: 4px;\n",
              "    }\n",
              "\n",
              "    [theme=dark] .colab-df-convert {\n",
              "      background-color: #3B4455;\n",
              "      fill: #D2E3FC;\n",
              "    }\n",
              "\n",
              "    [theme=dark] .colab-df-convert:hover {\n",
              "      background-color: #434B5C;\n",
              "      box-shadow: 0px 1px 3px 1px rgba(0, 0, 0, 0.15);\n",
              "      filter: drop-shadow(0px 1px 2px rgba(0, 0, 0, 0.3));\n",
              "      fill: #FFFFFF;\n",
              "    }\n",
              "  </style>\n",
              "\n",
              "    <script>\n",
              "      const buttonEl =\n",
              "        document.querySelector('#df-1a88a64d-378c-4b1b-81a9-5c5e72913e9e button.colab-df-convert');\n",
              "      buttonEl.style.display =\n",
              "        google.colab.kernel.accessAllowed ? 'block' : 'none';\n",
              "\n",
              "      async function convertToInteractive(key) {\n",
              "        const element = document.querySelector('#df-1a88a64d-378c-4b1b-81a9-5c5e72913e9e');\n",
              "        const dataTable =\n",
              "          await google.colab.kernel.invokeFunction('convertToInteractive',\n",
              "                                                    [key], {});\n",
              "        if (!dataTable) return;\n",
              "\n",
              "        const docLinkHtml = 'Like what you see? Visit the ' +\n",
              "          '<a target=\"_blank\" href=https://colab.research.google.com/notebooks/data_table.ipynb>data table notebook</a>'\n",
              "          + ' to learn more about interactive tables.';\n",
              "        element.innerHTML = '';\n",
              "        dataTable['output_type'] = 'display_data';\n",
              "        await google.colab.output.renderOutput(dataTable, element);\n",
              "        const docLink = document.createElement('div');\n",
              "        docLink.innerHTML = docLinkHtml;\n",
              "        element.appendChild(docLink);\n",
              "      }\n",
              "    </script>\n",
              "  </div>\n",
              "\n",
              "\n",
              "<div id=\"df-d4523fec-b248-4679-8b53-6655efc50fe1\">\n",
              "  <button class=\"colab-df-quickchart\" onclick=\"quickchart('df-d4523fec-b248-4679-8b53-6655efc50fe1')\"\n",
              "            title=\"Suggest charts\"\n",
              "            style=\"display:none;\">\n",
              "\n",
              "<svg xmlns=\"http://www.w3.org/2000/svg\" height=\"24px\"viewBox=\"0 0 24 24\"\n",
              "     width=\"24px\">\n",
              "    <g>\n",
              "        <path d=\"M19 3H5c-1.1 0-2 .9-2 2v14c0 1.1.9 2 2 2h14c1.1 0 2-.9 2-2V5c0-1.1-.9-2-2-2zM9 17H7v-7h2v7zm4 0h-2V7h2v10zm4 0h-2v-4h2v4z\"/>\n",
              "    </g>\n",
              "</svg>\n",
              "  </button>\n",
              "\n",
              "<style>\n",
              "  .colab-df-quickchart {\n",
              "      --bg-color: #E8F0FE;\n",
              "      --fill-color: #1967D2;\n",
              "      --hover-bg-color: #E2EBFA;\n",
              "      --hover-fill-color: #174EA6;\n",
              "      --disabled-fill-color: #AAA;\n",
              "      --disabled-bg-color: #DDD;\n",
              "  }\n",
              "\n",
              "  [theme=dark] .colab-df-quickchart {\n",
              "      --bg-color: #3B4455;\n",
              "      --fill-color: #D2E3FC;\n",
              "      --hover-bg-color: #434B5C;\n",
              "      --hover-fill-color: #FFFFFF;\n",
              "      --disabled-bg-color: #3B4455;\n",
              "      --disabled-fill-color: #666;\n",
              "  }\n",
              "\n",
              "  .colab-df-quickchart {\n",
              "    background-color: var(--bg-color);\n",
              "    border: none;\n",
              "    border-radius: 50%;\n",
              "    cursor: pointer;\n",
              "    display: none;\n",
              "    fill: var(--fill-color);\n",
              "    height: 32px;\n",
              "    padding: 0;\n",
              "    width: 32px;\n",
              "  }\n",
              "\n",
              "  .colab-df-quickchart:hover {\n",
              "    background-color: var(--hover-bg-color);\n",
              "    box-shadow: 0 1px 2px rgba(60, 64, 67, 0.3), 0 1px 3px 1px rgba(60, 64, 67, 0.15);\n",
              "    fill: var(--button-hover-fill-color);\n",
              "  }\n",
              "\n",
              "  .colab-df-quickchart-complete:disabled,\n",
              "  .colab-df-quickchart-complete:disabled:hover {\n",
              "    background-color: var(--disabled-bg-color);\n",
              "    fill: var(--disabled-fill-color);\n",
              "    box-shadow: none;\n",
              "  }\n",
              "\n",
              "  .colab-df-spinner {\n",
              "    border: 2px solid var(--fill-color);\n",
              "    border-color: transparent;\n",
              "    border-bottom-color: var(--fill-color);\n",
              "    animation:\n",
              "      spin 1s steps(1) infinite;\n",
              "  }\n",
              "\n",
              "  @keyframes spin {\n",
              "    0% {\n",
              "      border-color: transparent;\n",
              "      border-bottom-color: var(--fill-color);\n",
              "      border-left-color: var(--fill-color);\n",
              "    }\n",
              "    20% {\n",
              "      border-color: transparent;\n",
              "      border-left-color: var(--fill-color);\n",
              "      border-top-color: var(--fill-color);\n",
              "    }\n",
              "    30% {\n",
              "      border-color: transparent;\n",
              "      border-left-color: var(--fill-color);\n",
              "      border-top-color: var(--fill-color);\n",
              "      border-right-color: var(--fill-color);\n",
              "    }\n",
              "    40% {\n",
              "      border-color: transparent;\n",
              "      border-right-color: var(--fill-color);\n",
              "      border-top-color: var(--fill-color);\n",
              "    }\n",
              "    60% {\n",
              "      border-color: transparent;\n",
              "      border-right-color: var(--fill-color);\n",
              "    }\n",
              "    80% {\n",
              "      border-color: transparent;\n",
              "      border-right-color: var(--fill-color);\n",
              "      border-bottom-color: var(--fill-color);\n",
              "    }\n",
              "    90% {\n",
              "      border-color: transparent;\n",
              "      border-bottom-color: var(--fill-color);\n",
              "    }\n",
              "  }\n",
              "</style>\n",
              "\n",
              "  <script>\n",
              "    async function quickchart(key) {\n",
              "      const quickchartButtonEl =\n",
              "        document.querySelector('#' + key + ' button');\n",
              "      quickchartButtonEl.disabled = true;  // To prevent multiple clicks.\n",
              "      quickchartButtonEl.classList.add('colab-df-spinner');\n",
              "      try {\n",
              "        const charts = await google.colab.kernel.invokeFunction(\n",
              "            'suggestCharts', [key], {});\n",
              "      } catch (error) {\n",
              "        console.error('Error during call to suggestCharts:', error);\n",
              "      }\n",
              "      quickchartButtonEl.classList.remove('colab-df-spinner');\n",
              "      quickchartButtonEl.classList.add('colab-df-quickchart-complete');\n",
              "    }\n",
              "    (() => {\n",
              "      let quickchartButtonEl =\n",
              "        document.querySelector('#df-d4523fec-b248-4679-8b53-6655efc50fe1 button');\n",
              "      quickchartButtonEl.style.display =\n",
              "        google.colab.kernel.accessAllowed ? 'block' : 'none';\n",
              "    })();\n",
              "  </script>\n",
              "</div>\n",
              "\n",
              "    </div>\n",
              "  </div>\n"
            ],
            "application/vnd.google.colaboratory.intrinsic+json": {
              "type": "dataframe",
              "repr_error": "0"
            }
          },
          "metadata": {},
          "execution_count": 4
        }
      ]
    },
    {
      "cell_type": "code",
      "execution_count": 5,
      "metadata": {
        "colab": {
          "base_uri": "https://localhost:8080/"
        },
        "id": "xv3v-VeqJJt9",
        "outputId": "65017371-3330-4e44-a4f8-089f53290ffb"
      },
      "outputs": [
        {
          "output_type": "execute_result",
          "data": {
            "text/plain": [
              "(1000, 9)"
            ]
          },
          "metadata": {},
          "execution_count": 5
        }
      ],
      "source": [
        "# Show the dimensions of the DataFrame\n",
        "df.shape"
      ]
    },
    {
      "cell_type": "code",
      "execution_count": 6,
      "metadata": {
        "colab": {
          "base_uri": "https://localhost:8080/"
        },
        "id": "9S5wrmJMLxiQ",
        "outputId": "e2ab97fc-1601-4560-fe23-63d1a761905b"
      },
      "outputs": [
        {
          "output_type": "execute_result",
          "data": {
            "text/plain": [
              "Index(['Transaction ID', 'Date', 'Customer ID', 'Gender', 'Age',\n",
              "       'Product Category', 'Quantity', 'Price per Unit', 'Total Amount'],\n",
              "      dtype='object')"
            ]
          },
          "metadata": {},
          "execution_count": 6
        }
      ],
      "source": [
        "df.columns"
      ]
    },
    {
      "cell_type": "code",
      "execution_count": 7,
      "metadata": {
        "colab": {
          "base_uri": "https://localhost:8080/"
        },
        "id": "Wns4xdY-9i8T",
        "outputId": "9925e17f-a953-4d36-c551-bac2415f393e"
      },
      "outputs": [
        {
          "output_type": "stream",
          "name": "stdout",
          "text": [
            "<class 'pandas.core.frame.DataFrame'>\n",
            "RangeIndex: 1000 entries, 0 to 999\n",
            "Data columns (total 9 columns):\n",
            " #   Column            Non-Null Count  Dtype \n",
            "---  ------            --------------  ----- \n",
            " 0   Transaction ID    1000 non-null   int64 \n",
            " 1   Date              1000 non-null   object\n",
            " 2   Customer ID       1000 non-null   object\n",
            " 3   Gender            1000 non-null   object\n",
            " 4   Age               1000 non-null   int64 \n",
            " 5   Product Category  1000 non-null   object\n",
            " 6   Quantity          1000 non-null   int64 \n",
            " 7   Price per Unit    1000 non-null   int64 \n",
            " 8   Total Amount      1000 non-null   int64 \n",
            "dtypes: int64(5), object(4)\n",
            "memory usage: 70.4+ KB\n"
          ]
        }
      ],
      "source": [
        "df.info()"
      ]
    },
    {
      "cell_type": "code",
      "execution_count": 8,
      "metadata": {
        "colab": {
          "base_uri": "https://localhost:8080/",
          "height": 366
        },
        "id": "SSt_tRrJCcOu",
        "outputId": "c808cd37-3243-4982-84e8-74c9b2ba92b6"
      },
      "outputs": [
        {
          "output_type": "execute_result",
          "data": {
            "text/plain": [
              "Transaction ID       int64\n",
              "Date                object\n",
              "Customer ID         object\n",
              "Gender              object\n",
              "Age                  int64\n",
              "Product Category    object\n",
              "Quantity             int64\n",
              "Price per Unit       int64\n",
              "Total Amount         int64\n",
              "dtype: object"
            ],
            "text/html": [
              "<div>\n",
              "<style scoped>\n",
              "    .dataframe tbody tr th:only-of-type {\n",
              "        vertical-align: middle;\n",
              "    }\n",
              "\n",
              "    .dataframe tbody tr th {\n",
              "        vertical-align: top;\n",
              "    }\n",
              "\n",
              "    .dataframe thead th {\n",
              "        text-align: right;\n",
              "    }\n",
              "</style>\n",
              "<table border=\"1\" class=\"dataframe\">\n",
              "  <thead>\n",
              "    <tr style=\"text-align: right;\">\n",
              "      <th></th>\n",
              "      <th>0</th>\n",
              "    </tr>\n",
              "  </thead>\n",
              "  <tbody>\n",
              "    <tr>\n",
              "      <th>Transaction ID</th>\n",
              "      <td>int64</td>\n",
              "    </tr>\n",
              "    <tr>\n",
              "      <th>Date</th>\n",
              "      <td>object</td>\n",
              "    </tr>\n",
              "    <tr>\n",
              "      <th>Customer ID</th>\n",
              "      <td>object</td>\n",
              "    </tr>\n",
              "    <tr>\n",
              "      <th>Gender</th>\n",
              "      <td>object</td>\n",
              "    </tr>\n",
              "    <tr>\n",
              "      <th>Age</th>\n",
              "      <td>int64</td>\n",
              "    </tr>\n",
              "    <tr>\n",
              "      <th>Product Category</th>\n",
              "      <td>object</td>\n",
              "    </tr>\n",
              "    <tr>\n",
              "      <th>Quantity</th>\n",
              "      <td>int64</td>\n",
              "    </tr>\n",
              "    <tr>\n",
              "      <th>Price per Unit</th>\n",
              "      <td>int64</td>\n",
              "    </tr>\n",
              "    <tr>\n",
              "      <th>Total Amount</th>\n",
              "      <td>int64</td>\n",
              "    </tr>\n",
              "  </tbody>\n",
              "</table>\n",
              "</div><br><label><b>dtype:</b> object</label>"
            ]
          },
          "metadata": {},
          "execution_count": 8
        }
      ],
      "source": [
        "df.dtypes"
      ]
    },
    {
      "cell_type": "markdown",
      "metadata": {
        "id": "yXMrIkJVAFJd"
      },
      "source": [
        "<font size=\"4\" color=\"purple\" align=\"center\"><b>Check for Missing Values</b></font><b></b>"
      ]
    },
    {
      "cell_type": "code",
      "execution_count": 9,
      "metadata": {
        "colab": {
          "base_uri": "https://localhost:8080/",
          "height": 366
        },
        "id": "GKcXvRVxM_NM",
        "outputId": "bec71058-d56d-4a7f-b332-de1fb21d3a9a"
      },
      "outputs": [
        {
          "output_type": "execute_result",
          "data": {
            "text/plain": [
              "Transaction ID      0\n",
              "Date                0\n",
              "Customer ID         0\n",
              "Gender              0\n",
              "Age                 0\n",
              "Product Category    0\n",
              "Quantity            0\n",
              "Price per Unit      0\n",
              "Total Amount        0\n",
              "dtype: int64"
            ],
            "text/html": [
              "<div>\n",
              "<style scoped>\n",
              "    .dataframe tbody tr th:only-of-type {\n",
              "        vertical-align: middle;\n",
              "    }\n",
              "\n",
              "    .dataframe tbody tr th {\n",
              "        vertical-align: top;\n",
              "    }\n",
              "\n",
              "    .dataframe thead th {\n",
              "        text-align: right;\n",
              "    }\n",
              "</style>\n",
              "<table border=\"1\" class=\"dataframe\">\n",
              "  <thead>\n",
              "    <tr style=\"text-align: right;\">\n",
              "      <th></th>\n",
              "      <th>0</th>\n",
              "    </tr>\n",
              "  </thead>\n",
              "  <tbody>\n",
              "    <tr>\n",
              "      <th>Transaction ID</th>\n",
              "      <td>0</td>\n",
              "    </tr>\n",
              "    <tr>\n",
              "      <th>Date</th>\n",
              "      <td>0</td>\n",
              "    </tr>\n",
              "    <tr>\n",
              "      <th>Customer ID</th>\n",
              "      <td>0</td>\n",
              "    </tr>\n",
              "    <tr>\n",
              "      <th>Gender</th>\n",
              "      <td>0</td>\n",
              "    </tr>\n",
              "    <tr>\n",
              "      <th>Age</th>\n",
              "      <td>0</td>\n",
              "    </tr>\n",
              "    <tr>\n",
              "      <th>Product Category</th>\n",
              "      <td>0</td>\n",
              "    </tr>\n",
              "    <tr>\n",
              "      <th>Quantity</th>\n",
              "      <td>0</td>\n",
              "    </tr>\n",
              "    <tr>\n",
              "      <th>Price per Unit</th>\n",
              "      <td>0</td>\n",
              "    </tr>\n",
              "    <tr>\n",
              "      <th>Total Amount</th>\n",
              "      <td>0</td>\n",
              "    </tr>\n",
              "  </tbody>\n",
              "</table>\n",
              "</div><br><label><b>dtype:</b> int64</label>"
            ]
          },
          "metadata": {},
          "execution_count": 9
        }
      ],
      "source": [
        "# Check for Missing Values using isnull()\n",
        "df.isnull().sum()\n",
        "\n",
        "#df.dropna(inplace=True) Drop or Fill Missing Values\n",
        "#df.drop_duplicates(inplace=True)"
      ]
    },
    {
      "cell_type": "code",
      "execution_count": 10,
      "metadata": {
        "colab": {
          "base_uri": "https://localhost:8080/"
        },
        "id": "ieyK3uPs_YCm",
        "outputId": "e2a6b5cd-a5a9-48a3-bdfa-abab31e0f8e7"
      },
      "outputs": [
        {
          "output_type": "execute_result",
          "data": {
            "text/plain": [
              "[]"
            ]
          },
          "metadata": {},
          "execution_count": 10
        }
      ],
      "source": [
        "# Using Userdefind Functions\n",
        "[features for features in df.columns if df[features].isnull().sum()>0]"
      ]
    },
    {
      "cell_type": "code",
      "execution_count": 11,
      "metadata": {
        "colab": {
          "base_uri": "https://localhost:8080/",
          "height": 555
        },
        "id": "hwz_oZOe_9xA",
        "outputId": "d043dd84-48a3-4bf8-c0d0-59ad00826c53"
      },
      "outputs": [
        {
          "output_type": "execute_result",
          "data": {
            "text/plain": [
              "<Axes: >"
            ]
          },
          "metadata": {},
          "execution_count": 11
        },
        {
          "output_type": "display_data",
          "data": {
            "text/plain": [
              "<Figure size 640x480 with 1 Axes>"
            ],
            "image/png": "[encoded data removed]"
          },
          "metadata": {}
        }
      ],
      "source": [
        "# Using heatmap\n",
        "sns.heatmap(df.isnull(), yticklabels=False, cbar=False, cmap='viridis')\n",
        "# missing value less not showing in this heatmap"
      ]
    },
    {
      "cell_type": "code",
      "execution_count": 12,
      "metadata": {
        "id": "Ptez0wCpJwbK"
      },
      "outputs": [],
      "source": [
        "# set the Data Types\n",
        "df['Date'] = pd.to_datetime(df['Date'])"
      ]
    },
    {
      "cell_type": "markdown",
      "metadata": {
        "id": "0TEmRn5aKexg"
      },
      "source": [
        "<font size=\"4\" color=\"darkblue\" align=\"center\"><b>2. Descriptive Statistics</b></font>"
      ]
    },
    {
      "cell_type": "code",
      "execution_count": 13,
      "metadata": {
        "colab": {
          "base_uri": "https://localhost:8080/",
          "height": 429
        },
        "id": "mcVzwluy90Ai",
        "outputId": "b5b1aa8b-3059-4c59-8156-9a46a27e9177"
      },
      "outputs": [
        {
          "output_type": "execute_result",
          "data": {
            "text/plain": [
              "        Transaction ID                           Date Customer ID  Gender  \\\n",
              "count      1000.000000                           1000        1000    1000   \n",
              "unique             NaN                            NaN        1000       2   \n",
              "top                NaN                            NaN     CUST001  Female   \n",
              "freq               NaN                            NaN           1     510   \n",
              "mean        500.500000  2023-07-03 00:25:55.200000256         NaN     NaN   \n",
              "min           1.000000            2023-01-01 00:00:00         NaN     NaN   \n",
              "25%         250.750000            2023-04-08 00:00:00         NaN     NaN   \n",
              "50%         500.500000            2023-06-29 12:00:00         NaN     NaN   \n",
              "75%         750.250000            2023-10-04 00:00:00         NaN     NaN   \n",
              "max        1000.000000            2024-01-01 00:00:00         NaN     NaN   \n",
              "std         288.819436                            NaN         NaN     NaN   \n",
              "\n",
              "               Age Product Category     Quantity  Price per Unit  Total Amount  \n",
              "count   1000.00000             1000  1000.000000     1000.000000   1000.000000  \n",
              "unique         NaN                3          NaN             NaN           NaN  \n",
              "top            NaN         Clothing          NaN             NaN           NaN  \n",
              "freq           NaN              351          NaN             NaN           NaN  \n",
              "mean      41.39200              NaN     2.514000      179.890000    456.000000  \n",
              "min       18.00000              NaN     1.000000       25.000000     25.000000  \n",
              "25%       29.00000              NaN     1.000000       30.000000     60.000000  \n",
              "50%       42.00000              NaN     3.000000       50.000000    135.000000  \n",
              "75%       53.00000              NaN     4.000000      300.000000    900.000000  \n",
              "max       64.00000              NaN     4.000000      500.000000   2000.000000  \n",
              "std       13.68143              NaN     1.132734      189.681356    559.997632  "
            ],
            "text/html": [
              "\n",
              "  <div id=\"df-85dfa334-f02c-42fb-a8b4-02d99790b353\" class=\"colab-df-container\">\n",
              "    <div>\n",
              "<style scoped>\n",
              "    .dataframe tbody tr th:only-of-type {\n",
              "        vertical-align: middle;\n",
              "    }\n",
              "\n",
              "    .dataframe tbody tr th {\n",
              "        vertical-align: top;\n",
              "    }\n",
              "\n",
              "    .dataframe thead th {\n",
              "        text-align: right;\n",
              "    }\n",
              "</style>\n",
              "<table border=\"1\" class=\"dataframe\">\n",
              "  <thead>\n",
              "    <tr style=\"text-align: right;\">\n",
              "      <th></th>\n",
              "      <th>Transaction ID</th>\n",
              "      <th>Date</th>\n",
              "      <th>Customer ID</th>\n",
              "      <th>Gender</th>\n",
              "      <th>Age</th>\n",
              "      <th>Product Category</th>\n",
              "      <th>Quantity</th>\n",
              "      <th>Price per Unit</th>\n",
              "      <th>Total Amount</th>\n",
              "    </tr>\n",
              "  </thead>\n",
              "  <tbody>\n",
              "    <tr>\n",
              "      <th>count</th>\n",
              "      <td>1000.000000</td>\n",
              "      <td>1000</td>\n",
              "      <td>1000</td>\n",
              "      <td>1000</td>\n",
              "      <td>1000.00000</td>\n",
              "      <td>1000</td>\n",
              "      <td>1000.000000</td>\n",
              "      <td>1000.000000</td>\n",
              "      <td>1000.000000</td>\n",
              "    </tr>\n",
              "    <tr>\n",
              "      <th>unique</th>\n",
              "      <td>NaN</td>\n",
              "      <td>NaN</td>\n",
              "      <td>1000</td>\n",
              "      <td>2</td>\n",
              "      <td>NaN</td>\n",
              "      <td>3</td>\n",
              "      <td>NaN</td>\n",
              "      <td>NaN</td>\n",
              "      <td>NaN</td>\n",
              "    </tr>\n",
              "    <tr>\n",
              "      <th>top</th>\n",
              "      <td>NaN</td>\n",
              "      <td>NaN</td>\n",
              "      <td>CUST001</td>\n",
              "      <td>Female</td>\n",
              "      <td>NaN</td>\n",
              "      <td>Clothing</td>\n",
              "      <td>NaN</td>\n",
              "      <td>NaN</td>\n",
              "      <td>NaN</td>\n",
              "    </tr>\n",
              "    <tr>\n",
              "      <th>freq</th>\n",
              "      <td>NaN</td>\n",
              "      <td>NaN</td>\n",
              "      <td>1</td>\n",
              "      <td>510</td>\n",
              "      <td>NaN</td>\n",
              "      <td>351</td>\n",
              "      <td>NaN</td>\n",
              "      <td>NaN</td>\n",
              "      <td>NaN</td>\n",
              "    </tr>\n",
              "    <tr>\n",
              "      <th>mean</th>\n",
              "      <td>500.500000</td>\n",
              "      <td>2023-07-03 00:25:55.200000256</td>\n",
              "      <td>NaN</td>\n",
              "      <td>NaN</td>\n",
              "      <td>41.39200</td>\n",
              "      <td>NaN</td>\n",
              "      <td>2.514000</td>\n",
              "      <td>179.890000</td>\n",
              "      <td>456.000000</td>\n",
              "    </tr>\n",
              "    <tr>\n",
              "      <th>min</th>\n",
              "      <td>1.000000</td>\n",
              "      <td>2023-01-01 00:00:00</td>\n",
              "      <td>NaN</td>\n",
              "      <td>NaN</td>\n",
              "      <td>18.00000</td>\n",
              "      <td>NaN</td>\n",
              "      <td>1.000000</td>\n",
              "      <td>25.000000</td>\n",
              "      <td>25.000000</td>\n",
              "    </tr>\n",
              "    <tr>\n",
              "      <th>25%</th>\n",
              "      <td>250.750000</td>\n",
              "      <td>2023-04-08 00:00:00</td>\n",
              "      <td>NaN</td>\n",
              "      <td>NaN</td>\n",
              "      <td>29.00000</td>\n",
              "      <td>NaN</td>\n",
              "      <td>1.000000</td>\n",
              "      <td>30.000000</td>\n",
              "      <td>60.000000</td>\n",
              "    </tr>\n",
              "    <tr>\n",
              "      <th>50%</th>\n",
              "      <td>500.500000</td>\n",
              "      <td>2023-06-29 12:00:00</td>\n",
              "      <td>NaN</td>\n",
              "      <td>NaN</td>\n",
              "      <td>42.00000</td>\n",
              "      <td>NaN</td>\n",
              "      <td>3.000000</td>\n",
              "      <td>50.000000</td>\n",
              "      <td>135.000000</td>\n",
              "    </tr>\n",
              "    <tr>\n",
              "      <th>75%</th>\n",
              "      <td>750.250000</td>\n",
              "      <td>2023-10-04 00:00:00</td>\n",
              "      <td>NaN</td>\n",
              "      <td>NaN</td>\n",
              "      <td>53.00000</td>\n",
              "      <td>NaN</td>\n",
              "      <td>4.000000</td>\n",
              "      <td>300.000000</td>\n",
              "      <td>900.000000</td>\n",
              "    </tr>\n",
              "    <tr>\n",
              "      <th>max</th>\n",
              "      <td>1000.000000</td>\n",
              "      <td>2024-01-01 00:00:00</td>\n",
              "      <td>NaN</td>\n",
              "      <td>NaN</td>\n",
              "      <td>64.00000</td>\n",
              "      <td>NaN</td>\n",
              "      <td>4.000000</td>\n",
              "      <td>500.000000</td>\n",
              "      <td>2000.000000</td>\n",
              "    </tr>\n",
              "    <tr>\n",
              "      <th>std</th>\n",
              "      <td>288.819436</td>\n",
              "      <td>NaN</td>\n",
              "      <td>NaN</td>\n",
              "      <td>NaN</td>\n",
              "      <td>13.68143</td>\n",
              "      <td>NaN</td>\n",
              "      <td>1.132734</td>\n",
              "      <td>189.681356</td>\n",
              "      <td>559.997632</td>\n",
              "    </tr>\n",
              "  </tbody>\n",
              "</table>\n",
              "</div>\n",
              "    <div class=\"colab-df-buttons\">\n",
              "\n",
              "  <div class=\"colab-df-container\">\n",
              "    <button class=\"colab-df-convert\" onclick=\"convertToInteractive('df-85dfa334-f02c-42fb-a8b4-02d99790b353')\"\n",
              "            title=\"Convert this dataframe to an interactive table.\"\n",
              "            style=\"display:none;\">\n",
              "\n",
              "  <svg xmlns=\"http://www.w3.org/2000/svg\" height=\"24px\" viewBox=\"0 -960 960 960\">\n",
              "    <path d=\"M120-120v-720h720v720H120Zm60-500h600v-160H180v160Zm220 220h160v-160H400v160Zm0 220h160v-160H400v160ZM180-400h160v-160H180v160Zm440 0h160v-160H620v160ZM180-180h160v-160H180v160Zm440 0h160v-160H620v160Z\"/>\n",
              "  </svg>\n",
              "    </button>\n",
              "\n",
              "  <style>\n",
              "    .colab-df-container {\n",
              "      display:flex;\n",
              "      gap: 12px;\n",
              "    }\n",
              "\n",
              "    .colab-df-convert {\n",
              "      background-color: #E8F0FE;\n",
              "      border: none;\n",
              "      border-radius: 50%;\n",
              "      cursor: pointer;\n",
              "      display: none;\n",
              "      fill: #1967D2;\n",
              "      height: 32px;\n",
              "      padding: 0 0 0 0;\n",
              "      width: 32px;\n",
              "    }\n",
              "\n",
              "    .colab-df-convert:hover {\n",
              "      background-color: #E2EBFA;\n",
              "      box-shadow: 0px 1px 2px rgba(60, 64, 67, 0.3), 0px 1px 3px 1px rgba(60, 64, 67, 0.15);\n",
              "      fill: #174EA6;\n",
              "    }\n",
              "\n",
              "    .colab-df-buttons div {\n",
              "      margin-bottom: 4px;\n",
              "    }\n",
              "\n",
              "    [theme=dark] .colab-df-convert {\n",
              "      background-color: #3B4455;\n",
              "      fill: #D2E3FC;\n",
              "    }\n",
              "\n",
              "    [theme=dark] .colab-df-convert:hover {\n",
              "      background-color: #434B5C;\n",
              "      box-shadow: 0px 1px 3px 1px rgba(0, 0, 0, 0.15);\n",
              "      filter: drop-shadow(0px 1px 2px rgba(0, 0, 0, 0.3));\n",
              "      fill: #FFFFFF;\n",
              "    }\n",
              "  </style>\n",
              "\n",
              "    <script>\n",
              "      const buttonEl =\n",
              "        document.querySelector('#df-85dfa334-f02c-42fb-a8b4-02d99790b353 button.colab-df-convert');\n",
              "      buttonEl.style.display =\n",
              "        google.colab.kernel.accessAllowed ? 'block' : 'none';\n",
              "\n",
              "      async function convertToInteractive(key) {\n",
              "        const element = document.querySelector('#df-85dfa334-f02c-42fb-a8b4-02d99790b353');\n",
              "        const dataTable =\n",
              "          await google.colab.kernel.invokeFunction('convertToInteractive',\n",
              "                                                    [key], {});\n",
              "        if (!dataTable) return;\n",
              "\n",
              "        const docLinkHtml = 'Like what you see? Visit the ' +\n",
              "          '<a target=\"_blank\" href=https://colab.research.google.com/notebooks/data_table.ipynb>data table notebook</a>'\n",
              "          + ' to learn more about interactive tables.';\n",
              "        element.innerHTML = '';\n",
              "        dataTable['output_type'] = 'display_data';\n",
              "        await google.colab.output.renderOutput(dataTable, element);\n",
              "        const docLink = document.createElement('div');\n",
              "        docLink.innerHTML = docLinkHtml;\n",
              "        element.appendChild(docLink);\n",
              "      }\n",
              "    </script>\n",
              "  </div>\n",
              "\n",
              "\n",
              "<div id=\"df-a6b0c24f-15cf-47e4-8f8b-76634471bd35\">\n",
              "  <button class=\"colab-df-quickchart\" onclick=\"quickchart('df-a6b0c24f-15cf-47e4-8f8b-76634471bd35')\"\n",
              "            title=\"Suggest charts\"\n",
              "            style=\"display:none;\">\n",
              "\n",
              "<svg xmlns=\"http://www.w3.org/2000/svg\" height=\"24px\"viewBox=\"0 0 24 24\"\n",
              "     width=\"24px\">\n",
              "    <g>\n",
              "        <path d=\"M19 3H5c-1.1 0-2 .9-2 2v14c0 1.1.9 2 2 2h14c1.1 0 2-.9 2-2V5c0-1.1-.9-2-2-2zM9 17H7v-7h2v7zm4 0h-2V7h2v10zm4 0h-2v-4h2v4z\"/>\n",
              "    </g>\n",
              "</svg>\n",
              "  </button>\n",
              "\n",
              "<style>\n",
              "  .colab-df-quickchart {\n",
              "      --bg-color: #E8F0FE;\n",
              "      --fill-color: #1967D2;\n",
              "      --hover-bg-color: #E2EBFA;\n",
              "      --hover-fill-color: #174EA6;\n",
              "      --disabled-fill-color: #AAA;\n",
              "      --disabled-bg-color: #DDD;\n",
              "  }\n",
              "\n",
              "  [theme=dark] .colab-df-quickchart {\n",
              "      --bg-color: #3B4455;\n",
              "      --fill-color: #D2E3FC;\n",
              "      --hover-bg-color: #434B5C;\n",
              "      --hover-fill-color: #FFFFFF;\n",
              "      --disabled-bg-color: #3B4455;\n",
              "      --disabled-fill-color: #666;\n",
              "  }\n",
              "\n",
              "  .colab-df-quickchart {\n",
              "    background-color: var(--bg-color);\n",
              "    border: none;\n",
              "    border-radius: 50%;\n",
              "    cursor: pointer;\n",
              "    display: none;\n",
              "    fill: var(--fill-color);\n",
              "    height: 32px;\n",
              "    padding: 0;\n",
              "    width: 32px;\n",
              "  }\n",
              "\n",
              "  .colab-df-quickchart:hover {\n",
              "    background-color: var(--hover-bg-color);\n",
              "    box-shadow: 0 1px 2px rgba(60, 64, 67, 0.3), 0 1px 3px 1px rgba(60, 64, 67, 0.15);\n",
              "    fill: var(--button-hover-fill-color);\n",
              "  }\n",
              "\n",
              "  .colab-df-quickchart-complete:disabled,\n",
              "  .colab-df-quickchart-complete:disabled:hover {\n",
              "    background-color: var(--disabled-bg-color);\n",
              "    fill: var(--disabled-fill-color);\n",
              "    box-shadow: none;\n",
              "  }\n",
              "\n",
              "  .colab-df-spinner {\n",
              "    border: 2px solid var(--fill-color);\n",
              "    border-color: transparent;\n",
              "    border-bottom-color: var(--fill-color);\n",
              "    animation:\n",
              "      spin 1s steps(1) infinite;\n",
              "  }\n",
              "\n",
              "  @keyframes spin {\n",
              "    0% {\n",
              "      border-color: transparent;\n",
              "      border-bottom-color: var(--fill-color);\n",
              "      border-left-color: var(--fill-color);\n",
              "    }\n",
              "    20% {\n",
              "      border-color: transparent;\n",
              "      border-left-color: var(--fill-color);\n",
              "      border-top-color: var(--fill-color);\n",
              "    }\n",
              "    30% {\n",
              "      border-color: transparent;\n",
              "      border-left-color: var(--fill-color);\n",
              "      border-top-color: var(--fill-color);\n",
              "      border-right-color: var(--fill-color);\n",
              "    }\n",
              "    40% {\n",
              "      border-color: transparent;\n",
              "      border-right-color: var(--fill-color);\n",
              "      border-top-color: var(--fill-color);\n",
              "    }\n",
              "    60% {\n",
              "      border-color: transparent;\n",
              "      border-right-color: var(--fill-color);\n",
              "    }\n",
              "    80% {\n",
              "      border-color: transparent;\n",
              "      border-right-color: var(--fill-color);\n",
              "      border-bottom-color: var(--fill-color);\n",
              "    }\n",
              "    90% {\n",
              "      border-color: transparent;\n",
              "      border-bottom-color: var(--fill-color);\n",
              "    }\n",
              "  }\n",
              "</style>\n",
              "\n",
              "  <script>\n",
              "    async function quickchart(key) {\n",
              "      const quickchartButtonEl =\n",
              "        document.querySelector('#' + key + ' button');\n",
              "      quickchartButtonEl.disabled = true;  // To prevent multiple clicks.\n",
              "      quickchartButtonEl.classList.add('colab-df-spinner');\n",
              "      try {\n",
              "        const charts = await google.colab.kernel.invokeFunction(\n",
              "            'suggestCharts', [key], {});\n",
              "      } catch (error) {\n",
              "        console.error('Error during call to suggestCharts:', error);\n",
              "      }\n",
              "      quickchartButtonEl.classList.remove('colab-df-spinner');\n",
              "      quickchartButtonEl.classList.add('colab-df-quickchart-complete');\n",
              "    }\n",
              "    (() => {\n",
              "      let quickchartButtonEl =\n",
              "        document.querySelector('#df-a6b0c24f-15cf-47e4-8f8b-76634471bd35 button');\n",
              "      quickchartButtonEl.style.display =\n",
              "        google.colab.kernel.accessAllowed ? 'block' : 'none';\n",
              "    })();\n",
              "  </script>\n",
              "</div>\n",
              "\n",
              "    </div>\n",
              "  </div>\n"
            ],
            "application/vnd.google.colaboratory.intrinsic+json": {
              "type": "dataframe",
              "summary": "{\n  \"name\": \"df\",\n  \"rows\": 11,\n  \"fields\": [\n    {\n      \"column\": \"Transaction ID\",\n      \"properties\": {\n        \"dtype\": \"number\",\n        \"std\": 360.10009177221673,\n        \"min\": 1.0,\n        \"max\": 1000.0,\n        \"num_unique_values\": 6,\n        \"samples\": [\n          1000.0,\n          500.5,\n          288.8194360957494\n        ],\n        \"semantic_type\": \"\",\n        \"description\": \"\"\n      }\n    },\n    {\n      \"column\": \"Date\",\n      \"properties\": {\n        \"dtype\": \"date\",\n        \"min\": \"1970-01-01 00:00:00.000001\",\n        \"max\": \"2024-01-01 00:00:00\",\n        \"num_unique_values\": 7,\n        \"samples\": [\n          \"1000\",\n          \"2023-07-03 00:25:55.200000256\",\n          \"2023-10-04 00:00:00\"\n        ],\n        \"semantic_type\": \"\",\n        \"description\": \"\"\n      }\n    },\n    {\n      \"column\": \"Customer ID\",\n      \"properties\": {\n        \"dtype\": \"category\",\n        \"num_unique_values\": 3,\n        \"samples\": [\n          \"1000\",\n          \"CUST001\",\n          \"1\"\n        ],\n        \"semantic_type\": \"\",\n        \"description\": \"\"\n      }\n    },\n    {\n      \"column\": \"Gender\",\n      \"properties\": {\n        \"dtype\": \"category\",\n        \"num_unique_values\": 4,\n        \"samples\": [\n          2,\n          \"510\",\n          \"1000\"\n        ],\n        \"semantic_type\": \"\",\n        \"description\": \"\"\n      }\n    },\n    {\n      \"column\": \"Age\",\n      \"properties\": {\n        \"dtype\": \"number\",\n        \"std\": 340.78610904107535,\n        \"min\": 13.681429659122527,\n        \"max\": 1000.0,\n        \"num_unique_values\": 8,\n        \"samples\": [\n          41.392,\n          53.0,\n          1000.0\n        ],\n        \"semantic_type\": \"\",\n        \"description\": \"\"\n      }\n    },\n    {\n      \"column\": \"Product Category\",\n      \"properties\": {\n        \"dtype\": \"category\",\n        \"num_unique_values\": 4,\n        \"samples\": [\n          3,\n          \"351\",\n          \"1000\"\n        ],\n        \"semantic_type\": \"\",\n        \"description\": \"\"\n      }\n    },\n    {\n      \"column\": \"Quantity\",\n      \"properties\": {\n        \"dtype\": \"number\",\n        \"std\": 352.7148343264066,\n        \"min\": 1.0,\n        \"max\": 1000.0,\n        \"num_unique_values\": 6,\n        \"samples\": [\n          1000.0,\n          2.514,\n          1.1327343409145356\n        ],\n        \"semantic_type\": \"\",\n        \"description\": \"\"\n      }\n    },\n    {\n      \"column\": \"Price per Unit\",\n      \"properties\": {\n        \"dtype\": \"number\",\n        \"std\": 330.7254087976672,\n        \"min\": 25.0,\n        \"max\": 1000.0,\n        \"num_unique_values\": 8,\n        \"samples\": [\n          179.89,\n          300.0,\n          1000.0\n        ],\n        \"semantic_type\": \"\",\n        \"description\": \"\"\n      }\n    },\n    {\n      \"column\": \"Total Amount\",\n      \"properties\": {\n        \"dtype\": \"number\",\n        \"std\": 660.8084213867855,\n        \"min\": 25.0,\n        \"max\": 2000.0,\n        \"num_unique_values\": 8,\n        \"samples\": [\n          456.0,\n          900.0,\n          1000.0\n        ],\n        \"semantic_type\": \"\",\n        \"description\": \"\"\n      }\n    }\n  ]\n}"
            }
          },
          "metadata": {},
          "execution_count": 13
        }
      ],
      "source": [
        "df.describe(include='all')"
      ]
    },
    {
      "cell_type": "markdown",
      "source": [
        "<b>EXPLORATORY DATA ANALYSIS</B>"
      ],
      "metadata": {
        "id": "9HtBJcIPhjbX"
      }
    },
    {
      "cell_type": "markdown",
      "metadata": {
        "id": "JKc_nKtFM-ka"
      },
      "source": [
        "<font size=\"4\" color=\"darkblue\" align=\"center\"><b>3. Time Series Analysis</b></font>"
      ]
    },
    {
      "cell_type": "code",
      "source": [
        "print(df.columns)"
      ],
      "metadata": {
        "colab": {
          "base_uri": "https://localhost:8080/"
        },
        "id": "rD79wrvPidWK",
        "outputId": "1b09e480-5b91-4bc7-d3d9-5e5c00470c30"
      },
      "execution_count": 14,
      "outputs": [
        {
          "output_type": "stream",
          "name": "stdout",
          "text": [
            "Index(['Transaction ID', 'Date', 'Customer ID', 'Gender', 'Age',\n",
            "       'Product Category', 'Quantity', 'Price per Unit', 'Total Amount'],\n",
            "      dtype='object')\n"
          ]
        }
      ]
    },
    {
      "cell_type": "code",
      "source": [
        "# Find the minimum date\n",
        "min_date = df['Date'].min()\n",
        "print('Min_date', min_date)\n"
      ],
      "metadata": {
        "colab": {
          "base_uri": "https://localhost:8080/"
        },
        "id": "UkxNt5NRhr1o",
        "outputId": "bd46fd68-214a-461d-81f7-b4f1511999f6"
      },
      "execution_count": 15,
      "outputs": [
        {
          "output_type": "stream",
          "name": "stdout",
          "text": [
            "Min_date 2023-01-01 00:00:00\n"
          ]
        }
      ]
    },
    {
      "cell_type": "code",
      "source": [
        "max_date = df['Date'].max()\n",
        "print('Max_date', max_date)"
      ],
      "metadata": {
        "colab": {
          "base_uri": "https://localhost:8080/"
        },
        "id": "_MbUBJFmjmbH",
        "outputId": "2a5e89b4-25b3-4158-9f61-355f32d1c77e"
      },
      "execution_count": 16,
      "outputs": [
        {
          "output_type": "stream",
          "name": "stdout",
          "text": [
            "Max_date 2024-01-01 00:00:00\n"
          ]
        }
      ]
    },
    {
      "cell_type": "code",
      "execution_count": 17,
      "metadata": {
        "id": "Pe8kjBGxWH61"
      },
      "outputs": [],
      "source": [
        "# Set the Date as Index\n",
        "df.set_index('Date', inplace=True)"
      ]
    },
    {
      "cell_type": "code",
      "source": [
        "# Resample to monthly data\n",
        "monthly_sales = df.resample('M').sum()['Total Amount']\n",
        "\n",
        "# Print the first five rows of monthly sales\n",
        "print(\"First five rows of Monthly Sales: \")\n",
        "print(monthly_sales.head())\n",
        "\n",
        "# Print the last five rows of monthly sales\n",
        "print(\"\\nLast five rows of Monthly Sales: \")\n",
        "print(monthly_sales.tail())\n",
        "\n",
        "# Print the minimum date in monthly sales data\n",
        "print(\"\\nMonthly Sales minimum date: \")\n",
        "print(monthly_sales.index.min())\n",
        "\n",
        "# Print the maximum date in monthly sales data\n",
        "print(\"\\nMonthly Sales maximum date: \")\n",
        "print(monthly_sales.index.max())\n"
      ],
      "metadata": {
        "colab": {
          "base_uri": "https://localhost:8080/"
        },
        "id": "Zav_Od4rzZVg",
        "outputId": "5d771ed9-d6be-4262-fe57-5884b16a1f23"
      },
      "execution_count": 21,
      "outputs": [
        {
          "output_type": "stream",
          "name": "stdout",
          "text": [
            "First five rows of Monthly Sales: \n",
            "Date\n",
            "2023-01-31    35450\n",
            "2023-02-28    44060\n",
            "2023-03-31    28990\n",
            "2023-04-30    33870\n",
            "2023-05-31    53150\n",
            "Freq: M, Name: Total Amount, dtype: int64\n",
            "\n",
            "Last five rows of Monthly Sales: \n",
            "Date\n",
            "2023-09-30    23620\n",
            "2023-10-31    46580\n",
            "2023-11-30    34920\n",
            "2023-12-31    44690\n",
            "2024-01-31     1530\n",
            "Freq: M, Name: Total Amount, dtype: int64\n",
            "\n",
            "Monthly Sales minimum date: \n",
            "2023-01-31 00:00:00\n",
            "\n",
            "Monthly Sales maximum date: \n",
            "2024-01-31 00:00:00\n"
          ]
        }
      ]
    },
    {
      "cell_type": "code",
      "source": [
        "# Resample to monthly data\n",
        "monthly_sales = df.resample('M').sum()['Total Amount']\n",
        "\n",
        "# Verify data range\n",
        "print(f\"Data range: {monthly_sales.index.min()} to {monthly_sales.index.max()}\")\n",
        "\n",
        "# Plot the monthly sales\n",
        "plt.figure(figsize=(8, 5))\n",
        "plt.plot(monthly_sales.index, monthly_sales, label='Monthly Sales', color='g')\n",
        "plt.title('Monthly Sales Over Time')\n",
        "plt.xlabel('Date')\n",
        "plt.ylabel('Total Amount')\n",
        "plt.grid(True)\n",
        "plt.legend()  # Place legend after plot elements\n",
        "plt.show()"
      ],
      "metadata": {
        "colab": {
          "base_uri": "https://localhost:8080/",
          "height": 505
        },
        "id": "RGSqO-FG1kPy",
        "outputId": "dd618a1c-dd2b-49f8-ba78-15f29eec12ca"
      },
      "execution_count": 23,
      "outputs": [
        {
          "output_type": "stream",
          "name": "stdout",
          "text": [
            "Data range: 2023-01-31 00:00:00 to 2024-01-31 00:00:00\n"
          ]
        },
        {
          "output_type": "display_data",
          "data": {
            "text/plain": [
              "<Figure size 800x500 with 1 Axes>"
            ],
            "image/png": "[encoded data removed]"
          },
          "metadata": {}
        }
      ]
    },
    {
      "cell_type": "markdown",
      "source": [
        "<b>Insights:</b>\n",
        "\n",
        "1.Sales Trends:\n",
        "\n",
        "* Seasonal Patterns: Sales peak in months like May and October, while dropping in September and January. This suggests seasonal variations influenced by factors like holidays or promotions.\n",
        "* Recent Drop: A significant sales drop in January 2024 to 1,530 may indicate issues such as a seasonal slowdown or stockouts.\n",
        "\n",
        "2.Monthly Variations:\n",
        "\n",
        "* Highs and Lows: Sales peaked in May (53,150) and were lowest in January 2024 (1,530), indicating fluctuating demand or marketing effectiveness.\n",
        "* Consistency: Most of the year shows moderate to high sales, but further investigation is needed to identify consistent patterns."
      ],
      "metadata": {
        "id": "Y1-9j8Eh3gOw"
      }
    },
    {
      "cell_type": "markdown",
      "source": [
        "<font size=\"4\" color=\"darkblue\" align=\"center\"><b>4. Customer and Product Analysis</b></font>"
      ],
      "metadata": {
        "id": "DQnNAQWwdw7O"
      }
    },
    {
      "cell_type": "markdown",
      "source": [
        "<font size=\"3\" color=\"purple\" align=\"center\"><b>4.1 Analyze customer demographics</b></font><br>  "
      ],
      "metadata": {
        "id": "MD9Lib7XH2mx"
      }
    },
    {
      "cell_type": "code",
      "source": [
        "# Customer demographics\n",
        "gender_counts = df['Gender'].value_counts()\n",
        "gender_counts.plot(kind='bar', color=['skyblue', 'lightcoral'])\n",
        "plt.title('Gender Distribution')\n",
        "plt.xlabel('Gender')\n",
        "plt.ylabel('Number of Customers')\n",
        "plt.show()\n",
        "\n",
        "print(\"Customer Distribution by Gender:\\n\", gender_counts)"
      ],
      "metadata": {
        "colab": {
          "base_uri": "https://localhost:8080/",
          "height": 599
        },
        "id": "DoLfpqV_H5hg",
        "outputId": "547d499c-8d48-4530-f3cc-2d1cb8d62d40"
      },
      "execution_count": 24,
      "outputs": [
        {
          "output_type": "display_data",
          "data": {
            "text/plain": [
              "<Figure size 640x480 with 1 Axes>"
            ],
            "image/png": "[encoded data removed]"
          },
          "metadata": {}
        },
        {
          "output_type": "stream",
          "name": "stdout",
          "text": [
            "Customer Distribution by Gender:\n",
            " Gender\n",
            "Female    510\n",
            "Male      490\n",
            "Name: count, dtype: int64\n"
          ]
        }
      ]
    },
    {
      "cell_type": "markdown",
      "source": [
        "<b>Insights:</b> The customer base is almost evenly split between genders, with females(510) slightly outnumbering males(490)."
      ],
      "metadata": {
        "id": "6ZDUWTJRn6OD"
      }
    },
    {
      "cell_type": "markdown",
      "source": [
        "<font size=\"3\" color=\"purple\" align=\"center\"><b>4.2Gender Distribution by Age Group</b></font><br>"
      ],
      "metadata": {
        "id": "JvbBGvCGe8Oh"
      }
    },
    {
      "cell_type": "code",
      "source": [
        "# Define age groups\n",
        "age_bins = [0, 18, 30, 40, 50, 60, 100]\n",
        "age_labels = ['<18', '18-30', '30-40', '40-50', '50-60', '60+']\n",
        "df['Age Group'] = pd.cut(df['Age'], bins=age_bins, labels=age_labels)\n",
        "\n",
        "# Gender distribution by age group\n",
        "age_gender_distribution = df.groupby(['Age Group', 'Gender']).size().unstack()\n",
        "\n",
        "plt.figure(figsize=(12, 8))\n",
        "age_gender_distribution.plot(kind='bar', stacked=True)\n",
        "plt.title('Gender Distribution by Age Group')\n",
        "plt.xlabel('Age Group')\n",
        "plt.ylabel('Number of Customers')\n",
        "plt.xticks(rotation=45)\n",
        "plt.grid(axis='y', linestyle='--', alpha=0.7)\n",
        "plt.show()\n",
        "\n",
        "# Print the age and gender distribution values\n",
        "print(\"Gender Distribution by Age Group:\\n\", age_gender_distribution)"
      ],
      "metadata": {
        "colab": {
          "base_uri": "https://localhost:8080/",
          "height": 734
        },
        "id": "gVwmWS3qe6Ph",
        "outputId": "df2ba963-c8bc-467c-d33f-5050456de989"
      },
      "execution_count": 25,
      "outputs": [
        {
          "output_type": "stream",
          "name": "stderr",
          "text": [
            "<ipython-input-25-e7db210eadd7>:7: FutureWarning: The default of observed=False is deprecated and will be changed to True in a future version of pandas. Pass observed=False to retain current behavior or observed=True to adopt the future default and silence this warning.\n",
            "  age_gender_distribution = df.groupby(['Age Group', 'Gender']).size().unstack()\n"
          ]
        },
        {
          "output_type": "display_data",
          "data": {
            "text/plain": [
              "<Figure size 1200x800 with 0 Axes>"
            ]
          },
          "metadata": {}
        },
        {
          "output_type": "display_data",
          "data": {
            "text/plain": [
              "<Figure size 640x480 with 1 Axes>"
            ],
            "image/png": "[encoded data removed]"
          },
          "metadata": {}
        },
        {
          "output_type": "stream",
          "name": "stdout",
          "text": [
            "Gender Distribution by Age Group:\n",
            " Gender     Female  Male\n",
            "Age Group              \n",
            "<18            13     8\n",
            "18-30         126   126\n",
            "30-40          97    96\n",
            "40-50         116   105\n",
            "50-60         116   104\n",
            "60+            42    51\n"
          ]
        }
      ]
    },
    {
      "cell_type": "markdown",
      "source": [
        "\n",
        "<b>Insights:</b>\n",
        "\n",
        "* <18 years: Smallest segment with 13 females and 8 males.\n",
        "* 18-30 years: Largest segment, evenly split with 126 females and 126 males.\n",
        "* 30-40 years: Balanced with 97 females and 96 males.\n",
        "* 40-50 years: Slightly more females (116) than males (105).\n",
        "* 50-60 years: Almost balanced, with 116 females and 104 males.\n",
        "* 60+ years: Slightly more males (51) than females (42)."
      ],
      "metadata": {
        "id": "-he2e-nRqC2a"
      }
    },
    {
      "cell_type": "markdown",
      "source": [
        "<font size=\"3\" color=\"purple\" align=\"center\"><b>4.3 Total spending per customer</b></font><br>"
      ],
      "metadata": {
        "id": "rccB41lWrDQk"
      }
    },
    {
      "cell_type": "code",
      "source": [
        "# Total spending per customer\n",
        "total_spending_per_customer = df.groupby('Customer ID')['Total Amount'].sum()\n",
        "\n",
        "# Plot distribution\n",
        "plt.figure(figsize=(8, 5))\n",
        "total_spending_per_customer.plot(kind='hist', bins=30, color='lightblue', edgecolor='black')\n",
        "plt.title('Total Spending per Customer')\n",
        "plt.xlabel('Total Spending ($)')\n",
        "plt.ylabel('Number of Customers')\n",
        "plt.grid(True, linestyle='--', alpha=0.7)\n",
        "plt.show()\n",
        "\n",
        "print(\"Total Spending per Customer:\\n\", total_spending_per_customer.describe())"
      ],
      "metadata": {
        "colab": {
          "base_uri": "https://localhost:8080/",
          "height": 669
        },
        "id": "xkNNujvJjn-C",
        "outputId": "e5e889c4-a052-4695-9a5d-54f294cdb07d"
      },
      "execution_count": 26,
      "outputs": [
        {
          "output_type": "display_data",
          "data": {
            "text/plain": [
              "<Figure size 800x500 with 1 Axes>"
            ],
            "image/png": "[encoded data removed]"
          },
          "metadata": {}
        },
        {
          "output_type": "stream",
          "name": "stdout",
          "text": [
            "Total Spending per Customer:\n",
            " count    1000.000000\n",
            "mean      456.000000\n",
            "std       559.997632\n",
            "min        25.000000\n",
            "25%        60.000000\n",
            "50%       135.000000\n",
            "75%       900.000000\n",
            "max      2000.000000\n",
            "Name: Total Amount, dtype: float64\n"
          ]
        }
      ]
    },
    {
      "cell_type": "markdown",
      "source": [
        "Insights:\n",
        "* Average Spending: The mean total spending per customer is 456, indicating a moderate level of expenditure.\n",
        "* Spending Distribution: The standard deviation of 559.99 suggests a wide range of spending habits among customers. This is further supported by the significant difference between the median (135) and the 75th percentile (900).\n",
        "* Customer Segments: The data suggests the presence of two distinct customer segments:\n",
        "* Low-to-Medium Spenders: Approximately 75% of customers spend between 25 and 900.\n",
        "* High Spenders: The remaining 25% of customers spend between 900 and 2000."
      ],
      "metadata": {
        "id": "2f9-wlWWshQj"
      }
    },
    {
      "cell_type": "markdown",
      "source": [
        "<font size=\"3\" color=\"purple\" align=\"center\"><b>4.4 Total Number of Sales by Product Category</b></font><br>"
      ],
      "metadata": {
        "id": "kWC3SmVqIs9P"
      }
    },
    {
      "cell_type": "code",
      "source": [
        "# Product performance\n",
        "sales_by_category = df.groupby('Product Category')['Total Amount'].sum()\n",
        "\n",
        "# Create a horizontal bar chart with multiple colors\n",
        "colors = ['teal', 'coral', 'gold', 'royalblue']\n",
        "\n",
        "sales_by_category.plot(kind='bar', color=colors)\n",
        "plt.xlabel('Product Category')\n",
        "plt.ylabel('Total Sales')\n",
        "plt.title('Sales by Product Category')\n",
        "plt.grid(axis='y', linestyle='--', alpha=0.7)\n",
        "plt.show()\n",
        "\n",
        "print(\"Total Number of Sales by Product Category:\\n\", sales_by_category )"
      ],
      "metadata": {
        "colab": {
          "base_uri": "https://localhost:8080/",
          "height": 642
        },
        "id": "vIoroODRJEGD",
        "outputId": "d658ff9e-70b8-4178-c5dd-d0f00547fd2e"
      },
      "execution_count": 27,
      "outputs": [
        {
          "output_type": "display_data",
          "data": {
            "text/plain": [
              "<Figure size 640x480 with 1 Axes>"
            ],
            "image/png": "[encoded data removed]"
          },
          "metadata": {}
        },
        {
          "output_type": "stream",
          "name": "stdout",
          "text": [
            "Total Number of Sales by Product Category:\n",
            " Product Category\n",
            "Beauty         143515\n",
            "Clothing       155580\n",
            "Electronics    156905\n",
            "Name: Total Amount, dtype: int64\n"
          ]
        }
      ]
    },
    {
      "cell_type": "markdown",
      "source": [
        "<font size=\"3\" color=\"purple\" align=\"center\"><b>4.5 Average Spending by Product Category</b></font><br>"
      ],
      "metadata": {
        "id": "178Ku8QAu9IM"
      }
    },
    {
      "cell_type": "code",
      "source": [
        "# Step 1: Calculate average spending by product category\n",
        "pc_avg_spending = df.groupby('Product Category')['Total Amount'].mean().sort_values(ascending=False)\n",
        "\n",
        "# Step 2: Define a simple color palette with three colors\n",
        "simple_colors = ['#ff9999', '#66b3ff', '#99ff99']\n",
        "\n",
        "# Step 3: Plot a pie chart with the percentages\n",
        "plt.figure(figsize=(8, 6))\n",
        "pc_avg_spending.plot(kind='pie', autopct='%1.1f%%', startangle=140, colors=simple_colors)\n",
        "\n",
        "plt.title('Average Spending by Product Category')\n",
        "plt.ylabel('')  # Hide the y-label for a cleaner look\n",
        "plt.axis('equal')  # Equal aspect ratio ensures that pie is drawn as a circle.\n",
        "plt.show()\n",
        "\n",
        "\n",
        "print(\"Average Spending by Product Category:\\n\", pc_avg_spending)"
      ],
      "metadata": {
        "colab": {
          "base_uri": "https://localhost:8080/",
          "height": 630
        },
        "id": "UtkhQU8LkQa7",
        "outputId": "54cf22af-8f44-4acb-d568-442bdd1d6d67"
      },
      "execution_count": 28,
      "outputs": [
        {
          "output_type": "display_data",
          "data": {
            "text/plain": [
              "<Figure size 800x600 with 1 Axes>"
            ],
            "image/png": "[encoded data removed]"
          },
          "metadata": {}
        },
        {
          "output_type": "stream",
          "name": "stdout",
          "text": [
            "Average Spending by Product Category:\n",
            " Product Category\n",
            "Beauty         467.475570\n",
            "Electronics    458.786550\n",
            "Clothing       443.247863\n",
            "Name: Total Amount, dtype: float64\n"
          ]
        }
      ]
    },
    {
      "cell_type": "markdown",
      "source": [
        "<b>Observations:</b>\n",
        "\n",
        "1.Total Number of Sales:\n",
        "* Beauty: 143,515 sales\n",
        "* Clothing: 155,580 sales\n",
        "* Electronics: 156,905 sales\n",
        "\n",
        "2.Average Spending:\n",
        "* Beauty: $467.48\n",
        "\n",
        "* Electronics: $458.79\n",
        "\n",
        "* Clothing: $443.25"
      ],
      "metadata": {
        "id": "yDdwaFP1aUeQ"
      }
    },
    {
      "cell_type": "markdown",
      "metadata": {
        "id": "BMiZ0A6_HgqY"
      },
      "source": [
        "<b>Key points</b><br>\n",
        "* Beauty: Lower number of sales but highest average spending. Indicates a premium segment with customers willing to spend more per transaction. <br>\n",
        "* Electronics and Clothing: Higher number of sales but slightly lower average spending. Indicates high transaction volume but moderate spending per transaction."
      ]
    },
    {
      "cell_type": "markdown",
      "source": [
        "<b>Insights</b><br>\n",
        "* Beauty: Focus on high-value customers who spend more.\n",
        "* Electronics and Clothing: Leverage high transaction volumes with promotions and diverse product offerings to boost sales."
      ],
      "metadata": {
        "id": "npcRTf_PZrRd"
      }
    },
    {
      "cell_type": "markdown",
      "source": [
        "<font size=\"3\" color=\"purple\" align=\"center\"><b>4.6 Comparison of Total Quantity and Average Spending by Product Category</b></font><br>"
      ],
      "metadata": {
        "id": "LN2PO8fBj29Z"
      }
    },
    {
      "cell_type": "code",
      "source": [
        "# Calculate total quantity by product category\n",
        "product_category_quantity = df.groupby('Product Category')['Quantity'].sum()\n",
        "\n",
        "# Calculate average spending by product category\n",
        "average_spending = df.groupby('Product Category')['Total Amount'].mean()\n",
        "\n",
        "# Create a DataFrame for easy plotting\n",
        "comparison_df = pd.DataFrame({\n",
        "    'Total Quantity': product_category_quantity,\n",
        "    'Average Spending': average_spending\n",
        "})\n",
        "\n",
        "# Plotting\n",
        "comparison_df.plot(kind='bar', figsize=(8, 6), width=0.8)\n",
        "plt.title('Comparison of Total Quantity and Average Spending by Product Category')\n",
        "plt.xlabel('Product Category')\n",
        "plt.ylabel('Values')\n",
        "plt.xticks(rotation=45)\n",
        "plt.grid(axis='y', linestyle='--', alpha=0.7)\n",
        "plt.legend(loc='upper right')\n",
        "plt.show()\n",
        "\n",
        "# Print the comparison DataFrame\n",
        "print(\"Comparison of Total Quantity and Average Spending by Product Category:\\n\", comparison_df)"
      ],
      "metadata": {
        "colab": {
          "base_uri": "https://localhost:8080/",
          "height": 722
        },
        "id": "gOj7_mKlj4op",
        "outputId": "51d32350-e9fc-46e0-d154-11a4e87743c7"
      },
      "execution_count": 29,
      "outputs": [
        {
          "output_type": "display_data",
          "data": {
            "text/plain": [
              "<Figure size 800x600 with 1 Axes>"
            ],
            "image/png": "[encoded data removed]"
          },
          "metadata": {}
        },
        {
          "output_type": "stream",
          "name": "stdout",
          "text": [
            "Comparison of Total Quantity and Average Spending by Product Category:\n",
            "                   Total Quantity  Average Spending\n",
            "Product Category                                  \n",
            "Beauty                       771        467.475570\n",
            "Clothing                     894        443.247863\n",
            "Electronics                  849        458.786550\n"
          ]
        }
      ]
    },
    {
      "cell_type": "markdown",
      "source": [
        "<font size=\"4\" color=\"darkblue\" align=\"center\"><b>5. Find the Numerical and Categorical Features</b></font><br>"
      ],
      "metadata": {
        "id": "PkdT4JsZl4zF"
      }
    },
    {
      "cell_type": "code",
      "execution_count": 30,
      "metadata": {
        "colab": {
          "base_uri": "https://localhost:8080/"
        },
        "id": "3RlsznFPTK2f",
        "outputId": "c2b41339-73ae-4828-d43f-4b7b6955ce85"
      },
      "outputs": [
        {
          "output_type": "stream",
          "name": "stdout",
          "text": [
            "Categorical Features: {'Gender', 'Product Category', 'Customer ID'}\n",
            "Numerical Features: {'Age Group', 'Transaction ID', 'Quantity', 'Age', 'Price per Unit', 'Total Amount'}\n"
          ]
        }
      ],
      "source": [
        "# Find categorical features\n",
        "categorical_features = {i for i in df.columns if df[i].dtype == 'object'}\n",
        "print(\"Categorical Features:\", categorical_features)\n",
        "\n",
        "numerical_features = {i for i in df.columns if df[i].dtype != 'object'}\n",
        "print(\"Numerical Features:\",numerical_features)\n"
      ]
    },
    {
      "cell_type": "code",
      "execution_count": 31,
      "metadata": {
        "colab": {
          "base_uri": "https://localhost:8080/"
        },
        "id": "38G3wdKfT4T-",
        "outputId": "39faddd0-8d60-4fd1-b342-add5eff8cd12"
      },
      "outputs": [
        {
          "output_type": "execute_result",
          "data": {
            "text/plain": [
              "6"
            ]
          },
          "metadata": {},
          "execution_count": 31
        }
      ],
      "source": [
        "len(numerical_features)"
      ]
    },
    {
      "cell_type": "markdown",
      "source": [
        "<font size=\"3\" color=\"purple\" align=\"center\"><b>5. 1 Correlation between Numerical Features</b></font><br>"
      ],
      "metadata": {
        "id": "RbTssAPomjdE"
      }
    },
    {
      "cell_type": "code",
      "source": [
        "correlation_matrix = df[['Age', 'Quantity', 'Price per Unit', 'Total Amount']].corr()\n",
        "\n",
        "# Set the size of the plot\n",
        "plt.figure(figsize=(10, 8))\n",
        "\n",
        "# Create the heatmap\n",
        "sns.heatmap(correlation_matrix, annot=True, cmap='coolwarm', fmt='.2f', linewidths=0.5, vmin=-1, vmax=1)\n",
        "\n",
        "# Add a title\n",
        "plt.title('Correlation Heatmap')\n",
        "\n",
        "# Show the plot\n",
        "plt.show()\n",
        "print(correlation_matrix)\n"
      ],
      "metadata": {
        "colab": {
          "base_uri": "https://localhost:8080/",
          "height": 790
        },
        "id": "VgtcfU3aftWq",
        "outputId": "1515a810-596b-4383-d887-6047e1220d5d"
      },
      "execution_count": 32,
      "outputs": [
        {
          "output_type": "display_data",
          "data": {
            "text/plain": [
              "<Figure size 1000x800 with 2 Axes>"
            ],
            "image/png": "[encoded data removed]"
          },
          "metadata": {}
        },
        {
          "output_type": "stream",
          "name": "stdout",
          "text": [
            "                     Age  Quantity  Price per Unit  Total Amount\n",
            "Age             1.000000 -0.023737       -0.038423     -0.060568\n",
            "Quantity       -0.023737  1.000000        0.017501      0.373707\n",
            "Price per Unit -0.038423  0.017501        1.000000      0.851925\n",
            "Total Amount   -0.060568  0.373707        0.851925      1.000000\n"
          ]
        }
      ]
    },
    {
      "cell_type": "markdown",
      "source": [
        "<b>Insights:</b>\n",
        "* Weak correlation with quantity (-0.024), price per unit (-0.038), and total amount (-0.061). Age has minimal impact on these variables.\n",
        "* Strong positive correlation with total amount (0.852). Higher prices per unit significantly increase total spending."
      ],
      "metadata": {
        "id": "98wRaYKglyC0"
      }
    },
    {
      "cell_type": "markdown",
      "source": [
        "<font size=\"4\" color=\"darkblue\" align=\"center\"><b>Conclusion:</b></font><br>\n",
        "The Exploratory Data Analysis (EDA) has provided valuable insights into the retail business's performance and customer behavior. The analysis uncovered key patterns, trends, and anomalies, which are essential for making informed business decisions.\n",
        "\n",
        "<b>Sales Trends: </b>\n",
        "The data revealed significant seasonal variations in sales, with peaks in specific months such as May and October, and notable drops in others like January. This indicates the presence of seasonal influences and potential issues in January 2024.\n",
        "\n",
        "<b>Product Performance: </b>\n",
        "Different product categories showed varying levels of sales and customer engagement. High-spending customers are more prevalent in the beauty segment, while electronics and clothing benefit from diverse product offerings and promotions.\n",
        "\n",
        "<b>Customer Segmentation: </b>\n",
        "Customer behavior varies significantly by age and spending patterns. Younger customers respond well to targeted marketing and social media engagement, while older customers prefer health-related products and senior-friendly services.\n",
        "\n",
        "<b>Sales Fluctuations: </b>\n",
        "The analysis identified fluctuations in sales, with highs and lows suggesting opportunities for better inventory management and promotional strategies.\n",
        "<br>\n",
        "<font size=\"4\" color=\"darkblue\" align=\"center\"><b>Recommendations</b></font><br>\n",
        "<b>Investigate Sales Drops:</b>\n",
        "\n",
        "Conduct a detailed analysis to understand the causes behind the significant drop in January 2024. Explore market conditions, operational issues, and customer behavior changes to address these challenges and prevent future occurrences.\n",
        "\n",
        "<b>Leverage Peak Periods:</b>\n",
        "\n",
        "Develop and implement targeted marketing campaigns during high-sales months such as May and October. Capitalize on increased customer engagement during these periods to maximize revenue.\n",
        "\n",
        "<b>Stabilize Sales Performance:</b>\n",
        "\n",
        "Create strategies to manage sales fluctuations throughout the year. Consider inventory adjustments, promotional activities during slower periods, and improved demand forecasting to ensure more consistent sales.\n",
        "\n",
        "<b>Enhance Seasonal Promotions:</b>\n",
        "\n",
        "Plan and execute promotions around high-sales periods to boost revenue. Develop strategies to stimulate sales during slower months, balancing out the annual revenue cycle.\n",
        "\n",
        "<b>Monitor Trends Regularly:</b>\n",
        "\n",
        "Continuously analyze sales data to stay informed about emerging trends and shifts in customer behavior. Regular updates will help in adapting strategies proactively.\n",
        "\n",
        "<b>Utilize Customer Feedback:</b>\n",
        "Collect and analyze customer feedback to tailor marketing efforts and product offerings. Align strategies with customer preferences to enhance satisfaction and drive sales.\n",
        "\n",
        "<b>Product Category Focus:</b>\n",
        "\n",
        "* Beauty: Concentrate on high-spending customers by offering luxury products and exclusive services.\n",
        "* Electronics and Clothing: Increase sales through targeted promotions and effective inventory management.\n",
        "\n",
        "<b>Age-Based Marketing Strategies:</b>\n",
        "\n",
        "* Under 18 Years: Engage with targeted marketing and educational programs.\n",
        "18-30 Years: Focus on retention with loyalty programs and a strong social media presence.\n",
        "* 30-40 Years: Maintain balanced offerings and consider family-oriented services.\n",
        "* 40-50 Years: Tailor marketing towards females and promote health-related products.\n",
        "* 50-60 Years: Emphasize health and retirement services, along with community-building activities.\n",
        "* 60+ Years: Provide accessible, senior-friendly products and services.\n",
        "\n",
        "<b>Target High Spenders:</b>\n",
        "\n",
        "Develop strategies to retain and grow the high-value customer segment by offering tailored experiences and personalized marketing.\n",
        "\n",
        "<b>Customer Segmentation and Data Analysis:</b>\n",
        "\n",
        "Refine strategies for different spending groups based on in-depth analysis of customer behavior. Use these insights to enhance overall satisfaction and optimize marketing efforts.<br>\n",
        "<b> Correlation :</b>\n",
        "\n",
        "Carefully adjust prices per unit to maximize total revenue, considering its strong impact and Highlight higher-priced items to increase total sales.\n",
        "\n",
        "<b><i>By implementing these recommendations, the retail business can effectively address key challenges, optimize performance, and drive long-term growth through data-driven decision-making.</i></b>"
      ],
      "metadata": {
        "id": "aoBYGh474_Hf"
      }
    },
    {
      "cell_type": "code",
      "source": [],
      "metadata": {
        "id": "sKjEsZTks6k7"
      },
      "execution_count": null,
      "outputs": []
    }
  ],
  "metadata": {
    "colab": {
      "provenance": []
    },
    "kernelspec": {
      "display_name": "Python 3",
      "name": "python3"
    },
    "language_info": {
      "name": "python"
    }
  },
  "nbformat": 4,
  "nbformat_minor": 0
}